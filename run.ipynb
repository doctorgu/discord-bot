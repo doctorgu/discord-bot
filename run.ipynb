{
 "cells": [
  {
   "cell_type": "code",
   "execution_count": 82,
   "metadata": {},
   "outputs": [],
   "source": [
    "from datetime import datetime, timedelta, timezone\n",
    "from decimal import Decimal\n",
    "import math"
   ]
  },
  {
   "cell_type": "code",
   "execution_count": 91,
   "metadata": {},
   "outputs": [],
   "source": [
    "def round_down(value, decimals):\n",
    "    \"\"\"\n",
    "    Round down the given value to the specified number of decimal places.\n",
    "    \n",
    "    :param value: The number to round down.\n",
    "    :param decimals: The number of decimal places to round down to.\n",
    "    :return: The rounded down number.\n",
    "    \"\"\"\n",
    "    factor = 10 ** decimals\n",
    "    return math.floor(Decimal(str(value)) * factor) / factor\n",
    "\n",
    "def round_up(value, decimals):\n",
    "    \"\"\"\n",
    "    Round up the given value to the specified number of decimal places.\n",
    "    \n",
    "    :param value: The number to round up.\n",
    "    :param decimals: The number of decimal places to round up to.\n",
    "    :return: The rounded up number.\n",
    "    \"\"\"\n",
    "    factor = 10 ** decimals\n",
    "    return math.ceil(Decimal(str(value)) * factor) / factor\n",
    "\n",
    "def round_quarter_common(value, decimals, type, quarters = 4):\n",
    "    offset = 10 ** -(decimals - 2) / quarters\n",
    "    \n",
    "    gap_min = 999_999_999\n",
    "    val_nearest = -1\n",
    "    if type == 'down':\n",
    "        val_start = round_down(value, decimals - 2)\n",
    "        val_old = val_start\n",
    "        i = 0\n",
    "        while i < quarters + 1:\n",
    "            i += 1\n",
    "            val_cur = val_start + (i * offset)\n",
    "            if val_cur > value:\n",
    "                val_nearest = val_old\n",
    "                break\n",
    "            else:\n",
    "                val_old = val_cur\n",
    "    elif type == 'up':\n",
    "        val_start = round_up(value, decimals - 2)\n",
    "        val_old = val_start\n",
    "        i = 0\n",
    "        while i < quarters + 1:\n",
    "            i += 1\n",
    "            val_cur = val_start - (i * offset)\n",
    "            if val_cur < value:\n",
    "                val_nearest = val_old\n",
    "                break\n",
    "            else:\n",
    "                val_old = val_cur\n",
    "    else:\n",
    "        val_start = round_down(value, decimals - 2)\n",
    "        i = 0\n",
    "        while i < quarters + 1:\n",
    "            i += 1\n",
    "            val_cur = val_start + (i * offset)\n",
    "            gap_cur = abs(val_cur - value)\n",
    "            if gap_cur < gap_min:\n",
    "                gap_min = gap_cur\n",
    "                val_nearest = val_cur\n",
    "            \n",
    "    return round_down(val_nearest, decimals)\n",
    "    \n",
    "def round_down_quarter(value, decimals, quarters = 4):\n",
    "    \"\"\"\n",
    "    Round down to nearest quarter value\n",
    "\n",
    "    print(round_down_quarter(0.132, 3, 3)) # 0.1\n",
    "    print(round_down_quarter(0.133, 3, 3)) # 0.1\n",
    "    print(round_down_quarter(0.134, 3, 3)) # 0.133\n",
    "    \"\"\"\n",
    "\n",
    "    return round_quarter_common(value, decimals, 'down', quarters)\n",
    "\n",
    "def round_up_quarter(value, decimals, quarters = 4):\n",
    "    \"\"\"\n",
    "    Round up to nearest quarter value\n",
    "\n",
    "    print(round_up_quarter(0.132, 3, 3)) # 0.133\n",
    "    print(round_up_quarter(0.133, 3, 3)) # 0.133\n",
    "    print(round_up_quarter(0.134, 3, 3)) # 0.166\n",
    "    \"\"\"\n",
    "\n",
    "    return round_quarter_common(value, decimals, 'up', quarters)\n",
    "\n",
    "def round_quarter(value, decimals, quarters = 4):\n",
    "    \"\"\"\n",
    "    Round to nearest quarter value\n",
    "    \n",
    "    print(round_quarter(0.115, 3)) # 0.125\n",
    "    print(round_quarter(0.110, 3)) # 0.100\n",
    "    print(round_quarter(0.185, 3)) # 0.175\n",
    "    print(round_quarter(0.190, 3)) # 0.2\n",
    "\n",
    "    print(round_quarter(0.115, 3, 3)) # 0.100\n",
    "    print(round_quarter(0.117, 3, 3)) # 0.133\n",
    "    print(round_quarter(0.182, 3, 3)) # 0.166\n",
    "    print(round_quarter(0.190, 3, 3)) # 0.2\n",
    "\n",
    "    print(round_quarter(0.109, 3, 5)) # 0.100\n",
    "    print(round_quarter(0.110, 3, 5)) # 0.100\n",
    "    print(round_quarter(0.111, 3, 5)) # 0.120\n",
    "    print(round_quarter(0.190, 3, 5)) # 0.180\n",
    "    print(round_quarter(0.191, 3, 5)) # 0.2\n",
    "    \"\"\"\n",
    "\n",
    "    return round_quarter_common(value, decimals, '', quarters)\n"
   ]
  },
  {
   "cell_type": "code",
   "execution_count": 95,
   "metadata": {},
   "outputs": [
    {
     "ename": "KeyboardInterrupt",
     "evalue": "",
     "output_type": "error",
     "traceback": [
      "\u001b[1;31m---------------------------------------------------------------------------\u001b[0m",
      "\u001b[1;31mKeyboardInterrupt\u001b[0m                         Traceback (most recent call last)",
      "Cell \u001b[1;32mIn[95], line 1\u001b[0m\n\u001b[1;32m----> 1\u001b[0m \u001b[38;5;28mprint\u001b[39m(\u001b[43mround_quarter\u001b[49m\u001b[43m(\u001b[49m\u001b[38;5;241;43m0.110\u001b[39;49m\u001b[43m,\u001b[49m\u001b[43m \u001b[49m\u001b[38;5;241;43m3\u001b[39;49m\u001b[43m)\u001b[49m) \u001b[38;5;66;03m# 0.100\u001b[39;00m\n\u001b[0;32m      2\u001b[0m \u001b[38;5;66;03m# print(round_quarter(0.185, 3)) # 0.175\u001b[39;00m\n\u001b[0;32m      3\u001b[0m \u001b[38;5;66;03m# print(round_quarter(0.190, 3)) # 0.2\u001b[39;00m\n\u001b[0;32m      4\u001b[0m \n\u001b[1;32m   (...)\u001b[0m\n\u001b[0;32m     13\u001b[0m \u001b[38;5;66;03m# print(round_quarter(0.190, 3, 5)) # 0.180\u001b[39;00m\n\u001b[0;32m     14\u001b[0m \u001b[38;5;66;03m# print(round_quarter(0.191, 3, 5)) # 0.2\u001b[39;00m\n",
      "Cell \u001b[1;32mIn[91], line 108\u001b[0m, in \u001b[0;36mround_quarter\u001b[1;34m(value, decimals, quarters)\u001b[0m\n\u001b[0;32m     87\u001b[0m \u001b[38;5;28;01mdef\u001b[39;00m \u001b[38;5;21mround_quarter\u001b[39m(value, decimals, quarters \u001b[38;5;241m=\u001b[39m \u001b[38;5;241m4\u001b[39m):\n\u001b[0;32m     88\u001b[0m \u001b[38;5;250m    \u001b[39m\u001b[38;5;124;03m\"\"\"\u001b[39;00m\n\u001b[0;32m     89\u001b[0m \u001b[38;5;124;03m    Round to nearest quarter value\u001b[39;00m\n\u001b[0;32m     90\u001b[0m \u001b[38;5;124;03m    \u001b[39;00m\n\u001b[1;32m   (...)\u001b[0m\n\u001b[0;32m    105\u001b[0m \u001b[38;5;124;03m    print(round_quarter(0.191, 3, 5)) # 0.2\u001b[39;00m\n\u001b[0;32m    106\u001b[0m \u001b[38;5;124;03m    \"\"\"\u001b[39;00m\n\u001b[1;32m--> 108\u001b[0m     \u001b[38;5;28;01mreturn\u001b[39;00m \u001b[43mround_quarter_common\u001b[49m\u001b[43m(\u001b[49m\u001b[43mvalue\u001b[49m\u001b[43m,\u001b[49m\u001b[43m \u001b[49m\u001b[43mdecimals\u001b[49m\u001b[43m,\u001b[49m\u001b[43m \u001b[49m\u001b[38;5;124;43m'\u001b[39;49m\u001b[38;5;124;43m'\u001b[39;49m\u001b[43m,\u001b[49m\u001b[43m \u001b[49m\u001b[43mquarters\u001b[49m\u001b[43m)\u001b[49m\n",
      "Cell \u001b[1;32mIn[91], line 53\u001b[0m, in \u001b[0;36mround_quarter_common\u001b[1;34m(value, decimals, type, quarters)\u001b[0m\n\u001b[0;32m     51\u001b[0m             val_old \u001b[38;5;241m=\u001b[39m val_cur\n\u001b[0;32m     52\u001b[0m \u001b[38;5;28;01melse\u001b[39;00m:\n\u001b[1;32m---> 53\u001b[0m     val_start \u001b[38;5;241m=\u001b[39m \u001b[43mround_down\u001b[49m(value, decimals \u001b[38;5;241m-\u001b[39m \u001b[38;5;241m2\u001b[39m)\n\u001b[0;32m     54\u001b[0m     i \u001b[38;5;241m=\u001b[39m \u001b[38;5;241m0\u001b[39m\n\u001b[0;32m     55\u001b[0m     \u001b[38;5;28;01mwhile\u001b[39;00m i \u001b[38;5;241m<\u001b[39m quarters \u001b[38;5;241m+\u001b[39m \u001b[38;5;241m1\u001b[39m:\n",
      "Cell \u001b[1;32mIn[91], line 53\u001b[0m, in \u001b[0;36mround_quarter_common\u001b[1;34m(value, decimals, type, quarters)\u001b[0m\n\u001b[0;32m     51\u001b[0m             val_old \u001b[38;5;241m=\u001b[39m val_cur\n\u001b[0;32m     52\u001b[0m \u001b[38;5;28;01melse\u001b[39;00m:\n\u001b[1;32m---> 53\u001b[0m     val_start \u001b[38;5;241m=\u001b[39m \u001b[43mround_down\u001b[49m(value, decimals \u001b[38;5;241m-\u001b[39m \u001b[38;5;241m2\u001b[39m)\n\u001b[0;32m     54\u001b[0m     i \u001b[38;5;241m=\u001b[39m \u001b[38;5;241m0\u001b[39m\n\u001b[0;32m     55\u001b[0m     \u001b[38;5;28;01mwhile\u001b[39;00m i \u001b[38;5;241m<\u001b[39m quarters \u001b[38;5;241m+\u001b[39m \u001b[38;5;241m1\u001b[39m:\n",
      "File \u001b[1;32m_pydevd_bundle/pydevd_cython.pyx:1457\u001b[0m, in \u001b[0;36m_pydevd_bundle.pydevd_cython.SafeCallWrapper.__call__\u001b[1;34m()\u001b[0m\n",
      "File \u001b[1;32m_pydevd_bundle/pydevd_cython.pyx:701\u001b[0m, in \u001b[0;36m_pydevd_bundle.pydevd_cython.PyDBFrame.trace_dispatch\u001b[1;34m()\u001b[0m\n",
      "File \u001b[1;32m_pydevd_bundle/pydevd_cython.pyx:1152\u001b[0m, in \u001b[0;36m_pydevd_bundle.pydevd_cython.PyDBFrame.trace_dispatch\u001b[1;34m()\u001b[0m\n",
      "File \u001b[1;32m_pydevd_bundle/pydevd_cython.pyx:1135\u001b[0m, in \u001b[0;36m_pydevd_bundle.pydevd_cython.PyDBFrame.trace_dispatch\u001b[1;34m()\u001b[0m\n",
      "File \u001b[1;32m_pydevd_bundle/pydevd_cython.pyx:312\u001b[0m, in \u001b[0;36m_pydevd_bundle.pydevd_cython.PyDBFrame.do_wait_suspend\u001b[1;34m()\u001b[0m\n",
      "File \u001b[1;32m~\\AppData\\Roaming\\Python\\Python311\\site-packages\\debugpy\\_vendored\\pydevd\\pydevd.py:2070\u001b[0m, in \u001b[0;36mPyDB.do_wait_suspend\u001b[1;34m(self, thread, frame, event, arg, exception_type)\u001b[0m\n\u001b[0;32m   2067\u001b[0m             from_this_thread\u001b[38;5;241m.\u001b[39mappend(frame_custom_thread_id)\n\u001b[0;32m   2069\u001b[0m     \u001b[38;5;28;01mwith\u001b[39;00m \u001b[38;5;28mself\u001b[39m\u001b[38;5;241m.\u001b[39m_threads_suspended_single_notification\u001b[38;5;241m.\u001b[39mnotify_thread_suspended(thread_id, thread, stop_reason):\n\u001b[1;32m-> 2070\u001b[0m         keep_suspended \u001b[38;5;241m=\u001b[39m \u001b[38;5;28;43mself\u001b[39;49m\u001b[38;5;241;43m.\u001b[39;49m\u001b[43m_do_wait_suspend\u001b[49m\u001b[43m(\u001b[49m\u001b[43mthread\u001b[49m\u001b[43m,\u001b[49m\u001b[43m \u001b[49m\u001b[43mframe\u001b[49m\u001b[43m,\u001b[49m\u001b[43m \u001b[49m\u001b[43mevent\u001b[49m\u001b[43m,\u001b[49m\u001b[43m \u001b[49m\u001b[43marg\u001b[49m\u001b[43m,\u001b[49m\u001b[43m \u001b[49m\u001b[43msuspend_type\u001b[49m\u001b[43m,\u001b[49m\u001b[43m \u001b[49m\u001b[43mfrom_this_thread\u001b[49m\u001b[43m,\u001b[49m\u001b[43m \u001b[49m\u001b[43mframes_tracker\u001b[49m\u001b[43m)\u001b[49m\n\u001b[0;32m   2072\u001b[0m frames_list \u001b[38;5;241m=\u001b[39m \u001b[38;5;28;01mNone\u001b[39;00m\n\u001b[0;32m   2074\u001b[0m \u001b[38;5;28;01mif\u001b[39;00m keep_suspended:\n\u001b[0;32m   2075\u001b[0m     \u001b[38;5;66;03m# This means that we should pause again after a set next statement.\u001b[39;00m\n",
      "File \u001b[1;32m~\\AppData\\Roaming\\Python\\Python311\\site-packages\\debugpy\\_vendored\\pydevd\\pydevd.py:2106\u001b[0m, in \u001b[0;36mPyDB._do_wait_suspend\u001b[1;34m(self, thread, frame, event, arg, suspend_type, from_this_thread, frames_tracker)\u001b[0m\n\u001b[0;32m   2103\u001b[0m         \u001b[38;5;28mself\u001b[39m\u001b[38;5;241m.\u001b[39m_call_input_hook()\n\u001b[0;32m   2105\u001b[0m     \u001b[38;5;28mself\u001b[39m\u001b[38;5;241m.\u001b[39mprocess_internal_commands()\n\u001b[1;32m-> 2106\u001b[0m     time\u001b[38;5;241m.\u001b[39msleep(\u001b[38;5;241m0.01\u001b[39m)\n\u001b[0;32m   2108\u001b[0m \u001b[38;5;28mself\u001b[39m\u001b[38;5;241m.\u001b[39mcancel_async_evaluation(get_current_thread_id(thread), \u001b[38;5;28mstr\u001b[39m(\u001b[38;5;28mid\u001b[39m(frame)))\n\u001b[0;32m   2110\u001b[0m \u001b[38;5;66;03m# process any stepping instructions\u001b[39;00m\n",
      "\u001b[1;31mKeyboardInterrupt\u001b[0m: "
     ]
    }
   ],
   "source": [
    "print(round_down_quarter(0.132, 3, 3)) # 0.1\n",
    "print(round_down_quarter(0.133, 3, 3)) # 0.1\n",
    "print(round_down_quarter(0.134, 3, 3)) # 0.133\n",
    "\n",
    "print(round_up_quarter(0.132, 3, 3)) # 0.133\n",
    "print(round_up_quarter(0.133, 3, 3)) # 0.133\n",
    "print(round_up_quarter(0.134, 3, 3)) # 0.166\n",
    "\n",
    "print(round_quarter(0.115, 3)) # 0.125\n",
    "print(round_quarter(0.110, 3)) # 0.100\n",
    "print(round_quarter(0.185, 3)) # 0.175\n",
    "print(round_quarter(0.190, 3)) # 0.2\n",
    "\n",
    "print(round_quarter(0.115, 3, 3)) # 0.100\n",
    "print(round_quarter(0.117, 3, 3)) # 0.133\n",
    "print(round_quarter(0.182, 3, 3)) # 0.166\n",
    "print(round_quarter(0.190, 3, 3)) # 0.2\n",
    "\n",
    "print(round_quarter(0.109, 3, 5)) # 0.100\n",
    "print(round_quarter(0.110, 3, 5)) # 0.100\n",
    "print(round_quarter(0.111, 3, 5)) # 0.120\n",
    "print(round_quarter(0.190, 3, 5)) # 0.180\n",
    "print(round_quarter(0.191, 3, 5)) # 0.2\n"
   ]
  },
  {
   "cell_type": "code",
   "execution_count": 46,
   "metadata": {},
   "outputs": [
    {
     "name": "stdout",
     "output_type": "stream",
     "text": [
      "2.0\n"
     ]
    }
   ],
   "source": [
    "print(min(3.0, 2.0))"
   ]
  }
 ],
 "metadata": {
  "kernelspec": {
   "display_name": "Python 3",
   "language": "python",
   "name": "python3"
  },
  "language_info": {
   "codemirror_mode": {
    "name": "ipython",
    "version": 3
   },
   "file_extension": ".py",
   "mimetype": "text/x-python",
   "name": "python",
   "nbconvert_exporter": "python",
   "pygments_lexer": "ipython3",
   "version": "3.11.1"
  },
  "orig_nbformat": 4,
  "vscode": {
   "interpreter": {
    "hash": "3196968d684371006099b3d55edeef8ed90365227a30deaef86e5d4aa8519be0"
   }
  }
 },
 "nbformat": 4,
 "nbformat_minor": 2
}
